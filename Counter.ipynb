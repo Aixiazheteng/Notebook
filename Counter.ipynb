{
 "cells": [
  {
   "cell_type": "markdown",
   "metadata": {},
   "source": [
    "# Counter"
   ]
  },
  {
   "cell_type": "markdown",
   "metadata": {},
   "source": [
    "A Counter is a container that keeps track of how many times equivalent values are added. "
   ]
  },
  {
   "cell_type": "markdown",
   "metadata": {},
   "source": [
    "# 1.Initializing"
   ]
  },
  {
   "cell_type": "markdown",
   "metadata": {},
   "source": [
    "1.Counter supports three forms of initialization. Its constructor can be called with a sequence of items, a dictionary containing keys and counts, or using keyword arguments that map string names to counts."
   ]
  },
  {
   "cell_type": "code",
   "execution_count": 1,
   "metadata": {},
   "outputs": [
    {
     "name": "stdout",
     "output_type": "stream",
     "text": [
      "Counter({'b': 3, 'a': 2, 'c': 1})\n",
      "Counter({'b': 3, 'a': 2, 'c': 1})\n",
      "Counter({'b': 3, 'a': 2, 'c': 1})\n"
     ]
    }
   ],
   "source": [
    "import collections\n",
    "\n",
    "print(collections.Counter(['a','b','c','a','b','b']))\n",
    "print(collections.Counter({'a':2, 'b':3, 'c':1}))\n",
    "print(collections.Counter(a=2, b=3, c=1))"
   ]
  },
  {
   "cell_type": "markdown",
   "metadata": {},
   "source": [
    "2.An empty Counter can be constructed with no arguments and populated via the update() method."
   ]
  },
  {
   "cell_type": "code",
   "execution_count": 3,
   "metadata": {},
   "outputs": [
    {
     "name": "stdout",
     "output_type": "stream",
     "text": [
      "Inital  :  Counter()\n",
      "Sequence:  Counter({'a': 3, 'b': 2, 'c': 1, 'd': 1})\n",
      "Dict    :  Counter({'d': 6, 'a': 4, 'b': 2, 'c': 1})\n",
      "Map     :  Counter({'a': 5, 'd': 3, 'b': 2, 'c': 2})\n"
     ]
    }
   ],
   "source": [
    "import collections\n",
    "\n",
    "c = collections.Counter()\n",
    "print('Inital  : ', c)\n",
    "\n",
    "c.update('abcdaab')\n",
    "print('Sequence: ', c)\n",
    "\n",
    "c.update({'a':1,'d':5})\n",
    "print('Dict    : ', c)\n",
    "\n",
    "c.update(a=1, d=-3, c=1)\n",
    "print('Map     : ', c)"
   ]
  },
  {
   "cell_type": "markdown",
   "metadata": {},
   "source": [
    "# 2.Accessing Counts"
   ]
  },
  {
   "cell_type": "markdown",
   "metadata": {},
   "source": [
    "1.Once a Counter is populated, its values can be retrieved using the dictionary API."
   ]
  },
  {
   "cell_type": "code",
   "execution_count": 1,
   "metadata": {},
   "outputs": [
    {
     "name": "stdout",
     "output_type": "stream",
     "text": [
      "a : 3\n",
      "b : 2\n",
      "c : 1\n",
      "d : 1\n",
      "e : 0\n"
     ]
    }
   ],
   "source": [
    "import collections\n",
    "\n",
    "c = collections.Counter('abcdaab')\n",
    "\n",
    "for letter in 'abcde':\n",
    "    print('%s : %d' % (letter, c[letter]))"
   ]
  },
  {
   "cell_type": "markdown",
   "metadata": {},
   "source": [
    "2.The elements() method returns an iterator that produces all of the items known to the Counter."
   ]
  },
  {
   "cell_type": "code",
   "execution_count": 3,
   "metadata": {},
   "outputs": [
    {
     "name": "stdout",
     "output_type": "stream",
     "text": [
      "Counter({'e': 3, 'x': 1, 't': 1, 'r': 1, 'm': 1, 'l': 1, 'y': 1, 'z': 0, 'w': 0})\n",
      "['e', 'e', 'e', 'x', 't', 'r', 'm', 'l', 'y']\n"
     ]
    }
   ],
   "source": [
    "import collections\n",
    "\n",
    "c = collections.Counter('extremely')\n",
    "c['z'] = 0\n",
    "c.update(w=0)\n",
    "print(c)\n",
    "print(list(c.elements()))"
   ]
  },
  {
   "cell_type": "markdown",
   "metadata": {},
   "source": [
    "3.Use most_common() to produce a sequence of the n most frequently encountered input values and their respective counts."
   ]
  },
  {
   "cell_type": "code",
   "execution_count": 14,
   "metadata": {},
   "outputs": [
    {
     "name": "stdout",
     "output_type": "stream",
     "text": [
      "Counter({'s': 4, 'd': 4, 'g': 3, 'l': 2, 'f': 1})\n",
      "Counter({'s': 8, 'd': 7, 'g': 5, 'f': 3, 'l': 2})\n",
      "Counter({'s': 9, 'd': 8, 'g': 5, 'f': 4, 'l': 2, 'v': 1, 'x': 1, 'c': 1, 'a': 1, 'w': 1})\n",
      "Counter({'s': 9, 'd': 8, 'g': 5, 'f': 4, 'l': 2, 'v': 1, 'x': 1, 'c': 1, 'a': 1, 'w': 1})\n",
      "Counter({'s': 13, 'd': 11, 'g': 6, 'f': 5, 'l': 2, 'v': 1, 'x': 1, 'c': 1, 'a': 1, 'w': 1})\n",
      "Counter({'s': 13, 'd': 11, 'g': 8, 'f': 6, 'w': 6, 'l': 2, 'e': 2, 'v': 1, 'x': 1, 'c': 1, 'a': 1})\n",
      "Counter({'s': 16, 'd': 13, 'g': 9, 'f': 8, 'w': 7, 'e': 3, 'l': 2, 'a': 2, 'v': 1, 'x': 1, 'c': 1})\n",
      "Most Common: \n",
      "s : 16\n",
      "d : 13\n",
      "g :  9\n"
     ]
    }
   ],
   "source": [
    "import collections\n",
    "\n",
    "c = collections.Counter()\n",
    "with open('/Users/max/Desktop/Standard Library/Data Structures/Advanced Data Types/collections/Counter/words.txt', 'rt') as f:\n",
    "    for line in f:\n",
    "        c.update(line.rstrip())\n",
    "        print(c)\n",
    "\n",
    "print('Most Common: ')\n",
    "for letter, count in c.most_common(3):\n",
    "    print('%s : %2d' % (letter, count))"
   ]
  },
  {
   "cell_type": "markdown",
   "metadata": {},
   "source": [
    "# 3.Arithmetic"
   ]
  },
  {
   "cell_type": "markdown",
   "metadata": {},
   "source": [
    "Counter instances support arithmetic and set operations for aggregating results. "
   ]
  },
  {
   "cell_type": "code",
   "execution_count": 16,
   "metadata": {},
   "outputs": [
    {
     "name": "stdout",
     "output_type": "stream",
     "text": [
      "c1:  Counter({'b': 3, 'a': 2, 'c': 1})\n",
      "c2:  Counter({'a': 2, 'l': 1, 'p': 1, 'h': 1, 'b': 1, 'e': 1, 't': 1})\n",
      "\n",
      "Combined counts: \n",
      "Counter({'a': 4, 'b': 4, 'c': 1, 'l': 1, 'p': 1, 'h': 1, 'e': 1, 't': 1})\n",
      "\n",
      "Subtraction: \n",
      "Counter({'b': 2, 'c': 1})\n",
      "\n",
      "Intersection: \n",
      "Counter({'a': 2, 'b': 1})\n",
      "\n",
      "Union: \n",
      "Counter({'b': 3, 'a': 2, 'c': 1, 'l': 1, 'p': 1, 'h': 1, 'e': 1, 't': 1})\n"
     ]
    }
   ],
   "source": [
    "import collections\n",
    "\n",
    "c1 = collections.Counter(['a','b','c','a','b','b'])\n",
    "c2 = collections.Counter('alphabet')\n",
    "\n",
    "print('c1: ',c1)\n",
    "print('c2: ',c2)\n",
    "\n",
    "print('\\nCombined counts: ')\n",
    "print(c1 + c2)\n",
    "\n",
    "print('\\nSubtraction: ')\n",
    "print(c1 - c2)\n",
    "\n",
    "print('\\nIntersection: ')\n",
    "print(c1 & c2)\n",
    "\n",
    "print('\\nUnion: ')\n",
    "print(c1 | c2)"
   ]
  },
  {
   "cell_type": "code",
   "execution_count": null,
   "metadata": {},
   "outputs": [],
   "source": []
  }
 ],
 "metadata": {
  "kernelspec": {
   "display_name": "Python 3",
   "language": "python",
   "name": "python3"
  },
  "language_info": {
   "codemirror_mode": {
    "name": "ipython",
    "version": 3
   },
   "file_extension": ".py",
   "mimetype": "text/x-python",
   "name": "python",
   "nbconvert_exporter": "python",
   "pygments_lexer": "ipython3",
   "version": "3.7.0"
  }
 },
 "nbformat": 4,
 "nbformat_minor": 2
}
